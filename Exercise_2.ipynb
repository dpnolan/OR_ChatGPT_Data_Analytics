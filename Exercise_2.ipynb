{
 "cells": [
  {
   "cell_type": "markdown",
   "id": "dUmQtF1YAROr",
   "metadata": {
    "id": "dUmQtF1YAROr"
   },
   "source": [
    "# Webinar Exercise: Advanced NLP with ChatGPT API\n",
    "\n",
    "## Objective\n",
    "Leverage the ChatGPT API to extract structured insights from unstructured support ticket data.\n",
    "\n",
    "**Goals:**\n",
    "- Apply advanced natural language processing (NLP) with ChatGPT.\n",
    "- Extract metadata such as issue category, urgency, and action items.\n",
    "- Compare traditional keyword-based methods with AI-driven extraction.\n"
   ]
  },
  {
   "cell_type": "code",
   "execution_count": 12,
   "id": "EXV1pK1yAROv",
   "metadata": {
    "colab": {
     "base_uri": "https://localhost:8080/",
     "height": 206
    },
    "executionInfo": {
     "elapsed": 455,
     "status": "ok",
     "timestamp": 1753804046395,
     "user": {
      "displayName": "Deanne Larson",
      "userId": "09225825831789068588"
     },
     "user_tz": 420
    },
    "id": "EXV1pK1yAROv",
    "outputId": "9660177b-8f99-4bf3-bfcd-dcf2d74a616c"
   },
   "outputs": [
    {
     "data": {
      "text/html": [
       "<div>\n",
       "<style scoped>\n",
       "    .dataframe tbody tr th:only-of-type {\n",
       "        vertical-align: middle;\n",
       "    }\n",
       "\n",
       "    .dataframe tbody tr th {\n",
       "        vertical-align: top;\n",
       "    }\n",
       "\n",
       "    .dataframe thead th {\n",
       "        text-align: right;\n",
       "    }\n",
       "</style>\n",
       "<table border=\"1\" class=\"dataframe\">\n",
       "  <thead>\n",
       "    <tr style=\"text-align: right;\">\n",
       "      <th></th>\n",
       "      <th>ticket_id</th>\n",
       "      <th>customer_comment</th>\n",
       "      <th>product</th>\n",
       "      <th>channel</th>\n",
       "    </tr>\n",
       "  </thead>\n",
       "  <tbody>\n",
       "    <tr>\n",
       "      <th>0</th>\n",
       "      <td>1001</td>\n",
       "      <td>The battery life is terrible and the device ov...</td>\n",
       "      <td>Smartphone</td>\n",
       "      <td>Email</td>\n",
       "    </tr>\n",
       "    <tr>\n",
       "      <th>1</th>\n",
       "      <td>1002</td>\n",
       "      <td>I ordered the product two weeks ago and still ...</td>\n",
       "      <td>Tablet</td>\n",
       "      <td>Web Form</td>\n",
       "    </tr>\n",
       "    <tr>\n",
       "      <th>2</th>\n",
       "      <td>1003</td>\n",
       "      <td>The price dropped right after I bought it. Ver...</td>\n",
       "      <td>Headphones</td>\n",
       "      <td>Chat</td>\n",
       "    </tr>\n",
       "    <tr>\n",
       "      <th>3</th>\n",
       "      <td>1004</td>\n",
       "      <td>Customer service was helpful, but the setup in...</td>\n",
       "      <td>Smartwatch</td>\n",
       "      <td>Phone</td>\n",
       "    </tr>\n",
       "    <tr>\n",
       "      <th>4</th>\n",
       "      <td>1005</td>\n",
       "      <td>Love the product! The sound quality is amazing...</td>\n",
       "      <td>Speaker</td>\n",
       "      <td>Email</td>\n",
       "    </tr>\n",
       "  </tbody>\n",
       "</table>\n",
       "</div>"
      ],
      "text/plain": [
       "   ticket_id                                   customer_comment     product  \\\n",
       "0       1001  The battery life is terrible and the device ov...  Smartphone   \n",
       "1       1002  I ordered the product two weeks ago and still ...      Tablet   \n",
       "2       1003  The price dropped right after I bought it. Ver...  Headphones   \n",
       "3       1004  Customer service was helpful, but the setup in...  Smartwatch   \n",
       "4       1005  Love the product! The sound quality is amazing...     Speaker   \n",
       "\n",
       "    channel  \n",
       "0     Email  \n",
       "1  Web Form  \n",
       "2      Chat  \n",
       "3     Phone  \n",
       "4     Email  "
      ]
     },
     "execution_count": 12,
     "metadata": {},
     "output_type": "execute_result"
    }
   ],
   "source": [
    "# Load the support ticket dataset\n",
    "# Update the path with your path\n",
    "import pandas as pd\n",
    "df = pd.read_csv('support_tickets.csv')\n",
    "df.head()"
   ]
  },
  {
   "cell_type": "markdown",
   "id": "83WbzeFpAROx",
   "metadata": {
    "id": "83WbzeFpAROx"
   },
   "source": [
    "## Step 1: Traditional Keyword-Based Tagging (Baseline)\n",
    "Try extracting categories (e.g., billing, technical, access) using keywords.\n",
    "\n",
    "Purpose: Establish a baseline using a simple rule-based classifier. This allows learners to understand limitations of hardcoded heuristics compared to intelligent, context-aware systems like ChatGPT.\n"
   ]
  },
  {
   "cell_type": "code",
   "execution_count": 13,
   "id": "OjnN7U3IAROx",
   "metadata": {
    "colab": {
     "base_uri": "https://localhost:8080/",
     "height": 206
    },
    "executionInfo": {
     "elapsed": 51,
     "status": "ok",
     "timestamp": 1753804051133,
     "user": {
      "displayName": "Deanne Larson",
      "userId": "09225825831789068588"
     },
     "user_tz": 420
    },
    "id": "OjnN7U3IAROx",
    "outputId": "09d801ef-fd4b-435a-fe5f-49d59739a084"
   },
   "outputs": [
    {
     "data": {
      "text/html": [
       "<div>\n",
       "<style scoped>\n",
       "    .dataframe tbody tr th:only-of-type {\n",
       "        vertical-align: middle;\n",
       "    }\n",
       "\n",
       "    .dataframe tbody tr th {\n",
       "        vertical-align: top;\n",
       "    }\n",
       "\n",
       "    .dataframe thead th {\n",
       "        text-align: right;\n",
       "    }\n",
       "</style>\n",
       "<table border=\"1\" class=\"dataframe\">\n",
       "  <thead>\n",
       "    <tr style=\"text-align: right;\">\n",
       "      <th></th>\n",
       "      <th>customer_comment</th>\n",
       "      <th>keyword_category</th>\n",
       "    </tr>\n",
       "  </thead>\n",
       "  <tbody>\n",
       "    <tr>\n",
       "      <th>0</th>\n",
       "      <td>The battery life is terrible and the device ov...</td>\n",
       "      <td>Other</td>\n",
       "    </tr>\n",
       "    <tr>\n",
       "      <th>1</th>\n",
       "      <td>I ordered the product two weeks ago and still ...</td>\n",
       "      <td>Other</td>\n",
       "    </tr>\n",
       "    <tr>\n",
       "      <th>2</th>\n",
       "      <td>The price dropped right after I bought it. Ver...</td>\n",
       "      <td>Other</td>\n",
       "    </tr>\n",
       "    <tr>\n",
       "      <th>3</th>\n",
       "      <td>Customer service was helpful, but the setup in...</td>\n",
       "      <td>Other</td>\n",
       "    </tr>\n",
       "    <tr>\n",
       "      <th>4</th>\n",
       "      <td>Love the product! The sound quality is amazing...</td>\n",
       "      <td>Other</td>\n",
       "    </tr>\n",
       "  </tbody>\n",
       "</table>\n",
       "</div>"
      ],
      "text/plain": [
       "                                    customer_comment keyword_category\n",
       "0  The battery life is terrible and the device ov...            Other\n",
       "1  I ordered the product two weeks ago and still ...            Other\n",
       "2  The price dropped right after I bought it. Ver...            Other\n",
       "3  Customer service was helpful, but the setup in...            Other\n",
       "4  Love the product! The sound quality is amazing...            Other"
      ]
     },
     "execution_count": 13,
     "metadata": {},
     "output_type": "execute_result"
    }
   ],
   "source": [
    "# Simple keyword-based rule system for categorizing tickets\n",
    "def categorize_ticket(text):\n",
    "    text = text.lower()\n",
    "    if 'bill' in text or 'charge' in text:\n",
    "        return 'Billing'\n",
    "    elif 'error' in text or 'bug' in text:\n",
    "        return 'Technical'\n",
    "    elif 'login' in text or 'access' in text:\n",
    "        return 'Access'\n",
    "    else:\n",
    "        return 'Other'\n",
    "\n",
    "df['keyword_category'] = df['customer_comment'].apply(categorize_ticket)\n",
    "df[['customer_comment', 'keyword_category']].head()"
   ]
  },
  {
   "cell_type": "markdown",
   "id": "QglvSuTLAROy",
   "metadata": {
    "id": "QglvSuTLAROy"
   },
   "source": [
    "## Step 2: ChatGPT-Powered Classification\n",
    "Use ChatGPT to:\n",
    "- Classify the issue type\n",
    "- Extract urgency\n",
    "- Summarize the required action\n",
    "\n",
    "**Important:** You must have an OpenAI API key set in your environment as `OPENAI_API_KEY`.\n",
    "\n",
    "Purpose: Replace manual tagging with automated, intelligent categorization using ChatGPT. This approach accounts for context, tone, and indirect language, offering much richer metadata."
   ]
  },
  {
   "cell_type": "code",
   "execution_count": 14,
   "id": "bALUPWnxAROy",
   "metadata": {
    "executionInfo": {
     "elapsed": 1101,
     "status": "ok",
     "timestamp": 1753804070723,
     "user": {
      "displayName": "Deanne Larson",
      "userId": "09225825831789068588"
     },
     "user_tz": 420
    },
    "id": "bALUPWnxAROy"
   },
   "outputs": [],
   "source": [
    "# Setup for ChatGPT API\n",
    "import openai\n",
    "import os\n",
    "\n",
    "KEY=os.getenv(\"OPENAI_API_KEY\")\n",
    "\n",
    "#os.environ[\"OPENAI_API_KEY\"]= KEY\n",
    "\n",
    "openai.api_key = os.getenv(\"OPENAI_API_KEY\")"
   ]
  },
  {
   "cell_type": "code",
   "execution_count": 15,
   "id": "K_CrKjGMAROy",
   "metadata": {
    "executionInfo": {
     "elapsed": 5,
     "status": "ok",
     "timestamp": 1753804073994,
     "user": {
      "displayName": "Deanne Larson",
      "userId": "09225825831789068588"
     },
     "user_tz": 420
    },
    "id": "K_CrKjGMAROy"
   },
   "outputs": [],
   "source": [
    "# Function to query ChatGPT API with a custom prompt\n",
    "def classify_with_chatgpt(text):\n",
    "    prompt = f\"\"\"\n",
    "    Analyze the following support ticket and return a JSON with:\n",
    "    - category (e.g., Billing, Technical, Access, Other)\n",
    "    - urgency (Low, Medium, High)\n",
    "    - action_summary (a 1-line summary of recommended action)\n",
    "\n",
    "    Ticket: \\\"{text}\\\"\n",
    "    \"\"\"\n",
    "\n",
    "    client = openai.OpenAI()\n",
    "\n",
    "    response = client.chat.completions.create(\n",
    "        model=\"gpt-4-turbo\",\n",
    "        messages=[\n",
    "            {\"role\": \"system\", \"content\": \"You are a customer support analyst.\"},\n",
    "            {\"role\": \"user\", \"content\": prompt}\n",
    "        ],\n",
    "        temperature=0.3,\n",
    "        max_tokens=150\n",
    "    )\n",
    "    return response.choices[0].message.content"
   ]
  },
  {
   "cell_type": "markdown",
   "id": "qG5oUs3hAROz",
   "metadata": {
    "id": "qG5oUs3hAROz"
   },
   "source": [
    "### Try It: Run ChatGPT on a Sample Ticket"
   ]
  },
  {
   "cell_type": "code",
   "execution_count": 16,
   "id": "d4xrzlHKARO0",
   "metadata": {
    "colab": {
     "base_uri": "https://localhost:8080/"
    },
    "executionInfo": {
     "elapsed": 4475,
     "status": "ok",
     "timestamp": 1753804086044,
     "user": {
      "displayName": "Deanne Larson",
      "userId": "09225825831789068588"
     },
     "user_tz": 420
    },
    "id": "d4xrzlHKARO0",
    "outputId": "b61beec5-c497-4ec9-e384-c8f5735144b7"
   },
   "outputs": [
    {
     "name": "stdout",
     "output_type": "stream",
     "text": [
      "```json\n",
      "{\n",
      "    \"category\": \"Technical\",\n",
      "    \"urgency\": \"High\",\n",
      "    \"action_summary\": \"Investigate and resolve device overheating and poor battery performance issues.\"\n",
      "}\n",
      "```\n"
     ]
    }
   ],
   "source": [
    "# Example run on a single ticket\n",
    "sample_ticket = df['customer_comment'][0]\n",
    "response = classify_with_chatgpt(sample_ticket)\n",
    "print(response)"
   ]
  },
  {
   "cell_type": "markdown",
   "id": "fd97229c",
   "metadata": {
    "id": "fd97229c"
   },
   "source": [
    "\n",
    "Sentiment and Escalation Detection\n",
    "\n",
    "Extend your ChatGPT-powered classification function to also:\n",
    "- Detect the customer's **sentiment** (positive, negative, neutral)\n",
    "- Determine whether the support ticket should be **escalated** based on urgency or tone\n",
    "\n",
    "You may revise the function to request this additional information from the API.\n"
   ]
  },
  {
   "cell_type": "code",
   "execution_count": 17,
   "id": "c9ffa112",
   "metadata": {
    "colab": {
     "base_uri": "https://localhost:8080/"
    },
    "executionInfo": {
     "elapsed": 2606,
     "status": "ok",
     "timestamp": 1753804098800,
     "user": {
      "displayName": "Deanne Larson",
      "userId": "09225825831789068588"
     },
     "user_tz": 420
    },
    "id": "c9ffa112",
    "outputId": "9e655149-9bbb-4bfa-ea3e-cca25d31e31a"
   },
   "outputs": [
    {
     "name": "stdout",
     "output_type": "stream",
     "text": [
      "{\n",
      "  \"issue_type\": \"Wrong item delivered\",\n",
      "  \"urgency_level\": \"High\",\n",
      "  \"customer_sentiment\": \"Negative\",\n",
      "  \"escalation_required\": true\n",
      "}\n"
     ]
    }
   ],
   "source": [
    "# Extended function: ChatGPT classification + sentiment + escalation flag\n",
    "\n",
    "def classify_ticket_with_chatgpt_extended(ticket_text):\n",
    "    client = openai.OpenAI() # Initialize the client inside the function\n",
    "    response = client.chat.completions.create(\n",
    "        model=\"gpt-4-turbo\",\n",
    "        messages=[\n",
    "            {\"role\": \"system\", \"content\": \"You are a customer support NLP assistant. Given a support ticket, determine: (1) the issue type, (2) urgency level, (3) customer sentiment (positive, negative, neutral), and (4) whether the issue should be escalated. Return the results in JSON format.\"},\n",
    "            {\"role\": \"user\", \"content\": f\"Ticket: {ticket_text}\"}\n",
    "        ],\n",
    "        temperature=0.3,\n",
    "        max_tokens=300\n",
    "    )\n",
    "    return response.choices[0].message.content.strip()\n",
    "\n",
    "# Try it out\n",
    "print(classify_ticket_with_chatgpt_extended(\"I’ve emailed twice about the wrong item being delivered. Still no response. Very frustrating!\"))"
   ]
  },
  {
   "cell_type": "code",
   "execution_count": 18,
   "id": "pcfhKT3qUi6F",
   "metadata": {
    "executionInfo": {
     "elapsed": 62,
     "status": "ok",
     "timestamp": 1753804102659,
     "user": {
      "displayName": "Deanne Larson",
      "userId": "09225825831789068588"
     },
     "user_tz": 420
    },
    "id": "pcfhKT3qUi6F"
   },
   "outputs": [],
   "source": [
    "import json\n",
    "from pprint import pprint"
   ]
  },
  {
   "cell_type": "code",
   "execution_count": 19,
   "id": "ed7dda4c",
   "metadata": {
    "colab": {
     "base_uri": "https://localhost:8080/",
     "height": 206
    },
    "executionInfo": {
     "elapsed": 18,
     "status": "ok",
     "timestamp": 1753804105420,
     "user": {
      "displayName": "Deanne Larson",
      "userId": "09225825831789068588"
     },
     "user_tz": 420
    },
    "id": "ed7dda4c",
    "outputId": "02581031-001f-408d-80c6-a3531db45217"
   },
   "outputs": [
    {
     "data": {
      "text/html": [
       "<div>\n",
       "<style scoped>\n",
       "    .dataframe tbody tr th:only-of-type {\n",
       "        vertical-align: middle;\n",
       "    }\n",
       "\n",
       "    .dataframe tbody tr th {\n",
       "        vertical-align: top;\n",
       "    }\n",
       "\n",
       "    .dataframe thead th {\n",
       "        text-align: right;\n",
       "    }\n",
       "</style>\n",
       "<table border=\"1\" class=\"dataframe\">\n",
       "  <thead>\n",
       "    <tr style=\"text-align: right;\">\n",
       "      <th></th>\n",
       "      <th>feedback</th>\n",
       "    </tr>\n",
       "  </thead>\n",
       "  <tbody>\n",
       "    <tr>\n",
       "      <th>0</th>\n",
       "      <td>The delivery was late and I couldn't get an up...</td>\n",
       "    </tr>\n",
       "    <tr>\n",
       "      <th>1</th>\n",
       "      <td>Customer support was very helpful and friendly.</td>\n",
       "    </tr>\n",
       "    <tr>\n",
       "      <th>2</th>\n",
       "      <td>My product arrived damaged. Very disappointed.</td>\n",
       "    </tr>\n",
       "    <tr>\n",
       "      <th>3</th>\n",
       "      <td>Great quality and fast service, I’ll order again!</td>\n",
       "    </tr>\n",
       "    <tr>\n",
       "      <th>4</th>\n",
       "      <td>Terrible website experience. Couldn’t complete...</td>\n",
       "    </tr>\n",
       "  </tbody>\n",
       "</table>\n",
       "</div>"
      ],
      "text/plain": [
       "                                            feedback\n",
       "0  The delivery was late and I couldn't get an up...\n",
       "1    Customer support was very helpful and friendly.\n",
       "2     My product arrived damaged. Very disappointed.\n",
       "3  Great quality and fast service, I’ll order again!\n",
       "4  Terrible website experience. Couldn’t complete..."
      ]
     },
     "execution_count": 19,
     "metadata": {},
     "output_type": "execute_result"
    }
   ],
   "source": [
    "# Load sample customer feedback\n",
    "data = [\n",
    "    \"The delivery was late and I couldn't get an update.\",\n",
    "    \"Customer support was very helpful and friendly.\",\n",
    "    \"My product arrived damaged. Very disappointed.\",\n",
    "    \"Great quality and fast service, I’ll order again!\",\n",
    "    \"Terrible website experience. Couldn’t complete my purchase.\"\n",
    "]\n",
    "df = pd.DataFrame({'feedback': data})\n",
    "df"
   ]
  },
  {
   "cell_type": "code",
   "execution_count": 20,
   "id": "3e564b29",
   "metadata": {
    "executionInfo": {
     "elapsed": 12,
     "status": "ok",
     "timestamp": 1753804114891,
     "user": {
      "displayName": "Deanne Larson",
      "userId": "09225825831789068588"
     },
     "user_tz": 420
    },
    "id": "3e564b29"
   },
   "outputs": [],
   "source": [
    "# Define the ChatGPT function to extract actionable recommendations\n",
    "def ask_chatgpt_actionable(feedback):\n",
    "    prompt = (\n",
    "        \"Based on this customer feedback, what are three specific actions the company \"\n",
    "        \"could take to improve customer experience? Please explain briefly:\\n\" + feedback\n",
    "    )\n",
    "\n",
    "    response = openai.chat.completions.create(\n",
    "        model=\"gpt-4-turbo\",\n",
    "        messages=[\n",
    "            {\"role\": \"system\", \"content\": \"You are a business analyst helping a company interpret feedback and provide improvement suggestions.\"},\n",
    "            {\"role\": \"user\", \"content\": prompt}\n",
    "        ],\n",
    "        max_tokens=300,\n",
    "        temperature=0.7\n",
    "    )\n",
    "    return response.choices[0].message.content.strip()"
   ]
  },
  {
   "cell_type": "code",
   "execution_count": 21,
   "id": "12f4ae57",
   "metadata": {
    "colab": {
     "base_uri": "https://localhost:8080/"
    },
    "executionInfo": {
     "elapsed": 6786,
     "status": "ok",
     "timestamp": 1753804128647,
     "user": {
      "displayName": "Deanne Larson",
      "userId": "09225825831789068588"
     },
     "user_tz": 420
    },
    "id": "12f4ae57",
    "outputId": "fc1a89b1-8d4f-4c19-9737-08eabb95f56f"
   },
   "outputs": [
    {
     "name": "stdout",
     "output_type": "stream",
     "text": [
      "\u001b[1mActionable Recommendations:\u001b[0m\n",
      "\n",
      "Based on the customer feedback provided, the company could take the following three specific actions to improve customer experience:\n",
      "\n",
      "1. **Enhance Delivery and Tracking Systems**: The feedback indicates issues with late delivery and lack of updates. The company could invest in a more reliable delivery system or partner with more efficient logistics providers to ensure timely deliveries. Additionally, implementing a robust tracking system that provides real-time updates to customers about the status of their orders could significantly improve the customer experience and reduce anxiety and uncertainty around deliveries.\n",
      "\n",
      "2. **Improve Product Packaging and Handling**: The complaint about the product arriving damaged suggests that there may be issues with how products are packaged and handled during shipping. The company could review and potentially overhaul its packaging methods to provide more protection during transit. This might include using stronger or more protective materials and ensuring that the packing process is thorough. Regular training sessions for warehouse staff on proper packaging techniques could also help reduce the incidence of damage.\n",
      "\n",
      "3. **Revamp the Website Interface and User Experience**: Negative feedback about the website experience highlights the need for improvements in the digital interface. The company should consider auditing and updating its website to ensure it is user-friendly, with a clear, intuitive navigation system and a reliable checkout process. This could involve simplifying the purchase flow, enhancing webpage loading speeds, and ensuring the site is compatible with various devices and browsers. Additionally, usability testing with real users could provide insights into specific areas of the website that are causing frustration or are difficult to use.\n",
      "\n",
      "By addressing these specific areas\n"
     ]
    }
   ],
   "source": [
    "# Combine all feedback into one string and call the function\n",
    "all_feedback = \"\\n\".join(df['feedback'].tolist())\n",
    "\n",
    "# Uncomment this to run live\n",
    "recommendations = ask_chatgpt_actionable(all_feedback)\n",
    "\n",
    "# Simulated (mocked) response from API\n",
    "#with open(\"/content/sample_data/chatgpt_actionable_recommendations.txt\", \"r\") as f:\n",
    "#    recommendations = f.read()\n",
    "\n",
    "print(\"\\033[1mActionable Recommendations:\\033[0m\\n\")\n",
    "print(recommendations)"
   ]
  },
  {
   "cell_type": "code",
   "execution_count": null,
   "id": "6be35328-d56e-4ad5-be03-57e595975c3f",
   "metadata": {},
   "outputs": [],
   "source": []
  },
  {
   "cell_type": "code",
   "execution_count": null,
   "id": "07e245cf-859a-4c44-b82a-ec16cdfd8a0d",
   "metadata": {},
   "outputs": [],
   "source": []
  }
 ],
 "metadata": {
  "colab": {
   "provenance": []
  },
  "kernelspec": {
   "display_name": "ollama_env",
   "language": "python",
   "name": "ollama_env"
  },
  "language_info": {
   "codemirror_mode": {
    "name": "ipython",
    "version": 3
   },
   "file_extension": ".py",
   "mimetype": "text/x-python",
   "name": "python",
   "nbconvert_exporter": "python",
   "pygments_lexer": "ipython3",
   "version": "3.11.13"
  }
 },
 "nbformat": 4,
 "nbformat_minor": 5
}

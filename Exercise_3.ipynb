{
 "cells": [
  {
   "cell_type": "markdown",
   "id": "3fc24643",
   "metadata": {
    "id": "3fc24643"
   },
   "source": [
    "# Exercise 3: ChatGPT-Powered NLP on Customer Support Tickets\n",
    "### Objective\n",
    "Use ChatGPT API to classify, analyze, and extract actionable insights from unstructured customer service ticket data. Compare traditional keyword-based methods with AI-driven approaches."
   ]
  },
  {
   "cell_type": "markdown",
   "id": "dbdf2026",
   "metadata": {
    "id": "dbdf2026"
   },
   "source": [
    "## Step 1: Load the Dataset\n",
    "Load customer support tickets into a DataFrame to begin processing."
   ]
  },
  {
   "cell_type": "code",
   "execution_count": 1,
   "id": "83641459",
   "metadata": {
    "colab": {
     "base_uri": "https://localhost:8080/",
     "height": 206
    },
    "executionInfo": {
     "elapsed": 590,
     "status": "ok",
     "timestamp": 1753804267141,
     "user": {
      "displayName": "Deanne Larson",
      "userId": "09225825831789068588"
     },
     "user_tz": 420
    },
    "id": "83641459",
    "outputId": "4ebc76e2-9f3c-4176-f379-68717bbdf709"
   },
   "outputs": [
    {
     "data": {
      "text/html": [
       "<div>\n",
       "<style scoped>\n",
       "    .dataframe tbody tr th:only-of-type {\n",
       "        vertical-align: middle;\n",
       "    }\n",
       "\n",
       "    .dataframe tbody tr th {\n",
       "        vertical-align: top;\n",
       "    }\n",
       "\n",
       "    .dataframe thead th {\n",
       "        text-align: right;\n",
       "    }\n",
       "</style>\n",
       "<table border=\"1\" class=\"dataframe\">\n",
       "  <thead>\n",
       "    <tr style=\"text-align: right;\">\n",
       "      <th></th>\n",
       "      <th>ticket_id</th>\n",
       "      <th>customer_comment</th>\n",
       "      <th>product</th>\n",
       "      <th>channel</th>\n",
       "    </tr>\n",
       "  </thead>\n",
       "  <tbody>\n",
       "    <tr>\n",
       "      <th>0</th>\n",
       "      <td>1001</td>\n",
       "      <td>The battery life is terrible and the device ov...</td>\n",
       "      <td>Smartphone</td>\n",
       "      <td>Email</td>\n",
       "    </tr>\n",
       "    <tr>\n",
       "      <th>1</th>\n",
       "      <td>1002</td>\n",
       "      <td>I ordered the product two weeks ago and still ...</td>\n",
       "      <td>Tablet</td>\n",
       "      <td>Web Form</td>\n",
       "    </tr>\n",
       "    <tr>\n",
       "      <th>2</th>\n",
       "      <td>1003</td>\n",
       "      <td>The price dropped right after I bought it. Ver...</td>\n",
       "      <td>Headphones</td>\n",
       "      <td>Chat</td>\n",
       "    </tr>\n",
       "    <tr>\n",
       "      <th>3</th>\n",
       "      <td>1004</td>\n",
       "      <td>Customer service was helpful, but the setup in...</td>\n",
       "      <td>Smartwatch</td>\n",
       "      <td>Phone</td>\n",
       "    </tr>\n",
       "    <tr>\n",
       "      <th>4</th>\n",
       "      <td>1005</td>\n",
       "      <td>Love the product! The sound quality is amazing...</td>\n",
       "      <td>Speaker</td>\n",
       "      <td>Email</td>\n",
       "    </tr>\n",
       "  </tbody>\n",
       "</table>\n",
       "</div>"
      ],
      "text/plain": [
       "   ticket_id                                   customer_comment     product  \\\n",
       "0       1001  The battery life is terrible and the device ov...  Smartphone   \n",
       "1       1002  I ordered the product two weeks ago and still ...      Tablet   \n",
       "2       1003  The price dropped right after I bought it. Ver...  Headphones   \n",
       "3       1004  Customer service was helpful, but the setup in...  Smartwatch   \n",
       "4       1005  Love the product! The sound quality is amazing...     Speaker   \n",
       "\n",
       "    channel  \n",
       "0     Email  \n",
       "1  Web Form  \n",
       "2      Chat  \n",
       "3     Phone  \n",
       "4     Email  "
      ]
     },
     "execution_count": 1,
     "metadata": {},
     "output_type": "execute_result"
    }
   ],
   "source": [
    "import pandas as pd\n",
    "\n",
    "# Load the dataset\n",
    "# Change the path below to your path\n",
    "df = pd.read_csv('support_tickets.csv')\n",
    "df.head()"
   ]
  },
  {
   "cell_type": "markdown",
   "id": "9f25ba79",
   "metadata": {
    "id": "9f25ba79"
   },
   "source": [
    "## Step 2: Keyword-Based Tagging (Baseline)\n",
    "Apply a simple rule-based function to tag each comment into categories: Billing, Technical, Access, Other."
   ]
  },
  {
   "cell_type": "code",
   "execution_count": 2,
   "id": "dff205d3",
   "metadata": {
    "colab": {
     "base_uri": "https://localhost:8080/",
     "height": 206
    },
    "executionInfo": {
     "elapsed": 7,
     "status": "ok",
     "timestamp": 1753804272254,
     "user": {
      "displayName": "Deanne Larson",
      "userId": "09225825831789068588"
     },
     "user_tz": 420
    },
    "id": "dff205d3",
    "outputId": "a2909902-d5b0-43d8-b035-38b33186a9ac"
   },
   "outputs": [
    {
     "data": {
      "text/html": [
       "<div>\n",
       "<style scoped>\n",
       "    .dataframe tbody tr th:only-of-type {\n",
       "        vertical-align: middle;\n",
       "    }\n",
       "\n",
       "    .dataframe tbody tr th {\n",
       "        vertical-align: top;\n",
       "    }\n",
       "\n",
       "    .dataframe thead th {\n",
       "        text-align: right;\n",
       "    }\n",
       "</style>\n",
       "<table border=\"1\" class=\"dataframe\">\n",
       "  <thead>\n",
       "    <tr style=\"text-align: right;\">\n",
       "      <th></th>\n",
       "      <th>customer_comment</th>\n",
       "      <th>keyword_category</th>\n",
       "    </tr>\n",
       "  </thead>\n",
       "  <tbody>\n",
       "    <tr>\n",
       "      <th>0</th>\n",
       "      <td>The battery life is terrible and the device ov...</td>\n",
       "      <td>Other</td>\n",
       "    </tr>\n",
       "    <tr>\n",
       "      <th>1</th>\n",
       "      <td>I ordered the product two weeks ago and still ...</td>\n",
       "      <td>Other</td>\n",
       "    </tr>\n",
       "    <tr>\n",
       "      <th>2</th>\n",
       "      <td>The price dropped right after I bought it. Ver...</td>\n",
       "      <td>Other</td>\n",
       "    </tr>\n",
       "    <tr>\n",
       "      <th>3</th>\n",
       "      <td>Customer service was helpful, but the setup in...</td>\n",
       "      <td>Other</td>\n",
       "    </tr>\n",
       "    <tr>\n",
       "      <th>4</th>\n",
       "      <td>Love the product! The sound quality is amazing...</td>\n",
       "      <td>Other</td>\n",
       "    </tr>\n",
       "  </tbody>\n",
       "</table>\n",
       "</div>"
      ],
      "text/plain": [
       "                                    customer_comment keyword_category\n",
       "0  The battery life is terrible and the device ov...            Other\n",
       "1  I ordered the product two weeks ago and still ...            Other\n",
       "2  The price dropped right after I bought it. Ver...            Other\n",
       "3  Customer service was helpful, but the setup in...            Other\n",
       "4  Love the product! The sound quality is amazing...            Other"
      ]
     },
     "execution_count": 2,
     "metadata": {},
     "output_type": "execute_result"
    }
   ],
   "source": [
    "def categorize_ticket(text):\n",
    "    text = text.lower()\n",
    "    if 'bill' in text or 'charge' in text:\n",
    "        return 'Billing'\n",
    "    elif 'error' in text or 'bug' in text:\n",
    "        return 'Technical'\n",
    "    elif 'login' in text or 'access' in text:\n",
    "        return 'Access'\n",
    "    else:\n",
    "        return 'Other'\n",
    "\n",
    "df['keyword_category'] = df['customer_comment'].apply(categorize_ticket)\n",
    "df[['customer_comment', 'keyword_category']].head()"
   ]
  },
  {
   "cell_type": "markdown",
   "id": "9993c8da",
   "metadata": {
    "id": "9993c8da"
   },
   "source": [
    "## Step 3: Classification with ChatGPT API\n",
    "Use OpenAI’s GPT model to classify customer comments, assess urgency, and suggest an action."
   ]
  },
  {
   "cell_type": "code",
   "execution_count": 3,
   "id": "85b59f07",
   "metadata": {
    "colab": {
     "base_uri": "https://localhost:8080/",
     "height": 53
    },
    "executionInfo": {
     "elapsed": 5886,
     "status": "ok",
     "timestamp": 1753804287468,
     "user": {
      "displayName": "Deanne Larson",
      "userId": "09225825831789068588"
     },
     "user_tz": 420
    },
    "id": "85b59f07",
    "outputId": "fdd08c43-340b-46fb-952c-49afad0c35ac"
   },
   "outputs": [
    {
     "data": {
      "text/plain": [
       "'Category: Technical\\nUrgency Level: High\\nAction to be Taken: This issue seems critical and thus, should be escalated to the technical team immediately for further investigation and resolution. Advising the customer to stop using the device to avoid potential hazards if the device gets overheated. At the same time, ensure the customer that this issue will be resolved as soon as possible by our team.'"
      ]
     },
     "execution_count": 3,
     "metadata": {},
     "output_type": "execute_result"
    }
   ],
   "source": [
    "import openai\n",
    "import os\n",
    "\n",
    "# Set your API key (ensure it's set in your environment)\n",
    "#os.environ[\"OPENAI_API_KEY\"]= \"insert your key here\"\n",
    "KEY=os.getenv(\"OPENAI_API_KEY\")\n",
    "openai.api_key = KEY \n",
    "\n",
    "\n",
    "# Instantiate the OpenAI client\n",
    "client = openai.OpenAI(api_key=KEY)\n",
    "\n",
    "def classify_with_chatgpt(comment):\n",
    "    messages = [\n",
    "        {\"role\": \"system\", \"content\": \"You are a helpful customer support assistant.\"},\n",
    "        {\"role\": \"user\", \"content\": f\"Classify this support comment: '{comment}' into one of the categories (Billing, Technical, Access, Other). Also state the urgency level (Low, Medium, High) and what action should be taken.\"}\n",
    "    ]\n",
    "    response = client.chat.completions.create(\n",
    "        model=\"gpt-4\",\n",
    "        messages=messages\n",
    "    )\n",
    "    return response.choices[0].message.content\n",
    "\n",
    "# Example\n",
    "classify_with_chatgpt(df['customer_comment'].iloc[0])"
   ]
  },
  {
   "cell_type": "markdown",
   "id": "1e9a1e32",
   "metadata": {
    "id": "1e9a1e32"
   },
   "source": [
    "## Step 4: Generate Actionable Recommendations\n",
    "Use ChatGPT to suggest service improvements based on customer feedback."
   ]
  },
  {
   "cell_type": "code",
   "execution_count": 4,
   "id": "47a1492a",
   "metadata": {
    "colab": {
     "base_uri": "https://localhost:8080/",
     "height": 122
    },
    "executionInfo": {
     "elapsed": 10877,
     "status": "ok",
     "timestamp": 1753804306421,
     "user": {
      "displayName": "Deanne Larson",
      "userId": "09225825831789068588"
     },
     "user_tz": 420
    },
    "id": "47a1492a",
    "outputId": "82749465-b69f-4efe-b659-d1de7503d8bf"
   },
   "outputs": [
    {
     "data": {
      "text/plain": [
       "\"1. Enhance Battery Life: The company could invest in R&D to improve the battery life of the device. This could involve using more energy-efficient components or enhancing the software to optimize power consumption. Better battery life would extend the usage time of the device, making for a more satisfying customer experience.\\n\\n2. Improve Cooling Mechanisms: The company could also work on advancing the cooling system within the device to prevent overheating. This could potentially be achieved through better internal architecture, enhanced ventilation, use of heat resistant materials or even integrating a more advanced cooling technology.\\n\\n3. Provide Guidance on Proper Usage: Given these concerns, creating detailed user guidelines on how to optimize device use could prevent overheating and prolong battery life. This could include tips such as not using certain power-draining applications continuously, not exposing the device to direct sunlight for prolonged periods, or maybe even suggesting accessories that help dissipate heat. Providing such assistance can ensure the product's longevity while improving the overall customer experience.\""
      ]
     },
     "execution_count": 4,
     "metadata": {},
     "output_type": "execute_result"
    }
   ],
   "source": [
    "def get_recommendations(comment):\n",
    "    messages = [\n",
    "        {\"role\": \"system\", \"content\": \"You are a business analyst generating strategic recommendations based on customer feedback.\"},\n",
    "        {\"role\": \"user\", \"content\": f\"Based on this customer feedback, what are three specific actions the company could take to improve customer experience? Please explain briefly.\\n\\nFeedback: {comment}\"}\n",
    "    ]\n",
    "    response = client.chat.completions.create(\n",
    "        model=\"gpt-4\",\n",
    "        messages=messages\n",
    "    )\n",
    "    return response.choices[0].message.content\n",
    "\n",
    "# Example\n",
    "get_recommendations(df['customer_comment'].iloc[0])"
   ]
  },
  {
   "cell_type": "markdown",
   "id": "88e0c0c0",
   "metadata": {
    "id": "88e0c0c0"
   },
   "source": [
    "## Step 5: Executive Summary Generation\n",
    "Summarize multiple customer comments into a high-level report for business stakeholders."
   ]
  },
  {
   "cell_type": "code",
   "execution_count": 5,
   "id": "50ace1ae",
   "metadata": {
    "colab": {
     "base_uri": "https://localhost:8080/",
     "height": 122
    },
    "executionInfo": {
     "elapsed": 11186,
     "status": "ok",
     "timestamp": 1753804324762,
     "user": {
      "displayName": "Deanne Larson",
      "userId": "09225825831789068588"
     },
     "user_tz": 420
    },
    "id": "50ace1ae",
    "outputId": "9c718aa5-9055-4a00-b66d-9c764295da8a"
   },
   "outputs": [
    {
     "data": {
      "text/plain": [
       "'Executive Summary:\\n\\nStrengths: Our product is receiving positive feedback for sound quality and user-friendliness, which indicates that our core features are meeting customer expectations. Our customer service efforts are also acknowledged as being helpful and responsive, highlighting the effectiveness of our customer interactions.\\n\\nWeaknesses: Customers are expressing dissatisfaction regarding the battery life of our products, with a noteworthy concern being about devices overheating quickly. These could potentially affect product reliability and customer safety. Issues with our pricing policy, specifically regarding price reductions shortly after purchase, are resulting in customer disappointment. Additionally, customers are still waiting for deliveries despite ordering two weeks prior, indicating a potential problem with our shipping or order management process.\\n\\nAreas for Improvement: We may need to revisit the engineering of our devices to address issues around battery life and heat dissipation. The possibility of implementing a price guarantee policy to ensure customer satisfaction after a short-term price drop could be considered. Our logistics and delivery processes should be evaluated to ensure on-time deliveries. Finally, while our customer service support is appreciated, we might benefit from reviewing and refining our setup instructions to make them clearer and more user-friendly.'"
      ]
     },
     "execution_count": 5,
     "metadata": {},
     "output_type": "execute_result"
    }
   ],
   "source": [
    "def create_summary(comments):\n",
    "    joined_comments = \"\\n\".join(comments)\n",
    "    messages = [\n",
    "        {\"role\": \"system\", \"content\": \"You are a customer success analyst summarizing feedback trends.\"},\n",
    "        {\"role\": \"user\", \"content\": f\"Summarize these customer service comments into an executive summary highlighting strengths, weaknesses, and areas for improvement:\\n{joined_comments}\"}\n",
    "    ]\n",
    "    response = client.chat.completions.create(\n",
    "        model=\"gpt-4\",\n",
    "        messages=messages\n",
    "    )\n",
    "    return response.choices[0].message.content\n",
    "\n",
    "# Example\n",
    "create_summary(df['customer_comment'].sample(5).tolist())"
   ]
  },
  {
   "cell_type": "code",
   "execution_count": null,
   "id": "80d8b542-e4a5-4590-8536-0b265b5cfd1c",
   "metadata": {},
   "outputs": [],
   "source": []
  }
 ],
 "metadata": {
  "colab": {
   "provenance": []
  },
  "kernelspec": {
   "display_name": "Python 3 (ipykernel)",
   "language": "python",
   "name": "python3"
  },
  "language_info": {
   "codemirror_mode": {
    "name": "ipython",
    "version": 3
   },
   "file_extension": ".py",
   "mimetype": "text/x-python",
   "name": "python",
   "nbconvert_exporter": "python",
   "pygments_lexer": "ipython3",
   "version": "3.11.13"
  }
 },
 "nbformat": 4,
 "nbformat_minor": 5
}

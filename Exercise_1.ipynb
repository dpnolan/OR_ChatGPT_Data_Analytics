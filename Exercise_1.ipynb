{
 "cells": [
  {
   "cell_type": "markdown",
   "metadata": {
    "id": "uv2Zmac14hvr"
   },
   "source": [
    "Analyzing Semi-Structured JSON Data with ChatGPT and Python\n",
    "This notebook demonstrates how to work with semi-structured JSON data using both traditional Python tools and the ChatGPT API. It addresses key challenges such as:\n",
    "\n",
    "1. Nested hierarchies\n",
    "2. Inconsistent schemas\n",
    "3. Mixed data types\n",
    "4. Complex relationships\n",
    "Objectives:\n",
    "1. Extract specific values using natural language\n",
    "2. Infer/document implicit schemas\n",
    "3. Reformat content for downstream analysis\n",
    "4. Generate Python code to process semi-structured data"
   ]
  },
  {
   "cell_type": "code",
   "execution_count": 1,
   "metadata": {
    "colab": {
     "base_uri": "https://localhost:8080/"
    },
    "executionInfo": {
     "elapsed": 10,
     "status": "ok",
     "timestamp": 1753803537616,
     "user": {
      "displayName": "Deanne Larson",
      "userId": "09225825831789068588"
     },
     "user_tz": 420
    },
    "id": "CNnVW5Q54md0",
    "outputId": "3a550b14-1988-47bd-ddce-164b95eacaab"
   },
   "outputs": [
    {
     "data": {
      "text/plain": [
       "[{'order_id': 'A1001',\n",
       "  'customer': {'id': 'C001', 'name': 'Alice Johnson'},\n",
       "  'items': [{'product': 'Widget A', 'quantity': 2, 'price': 19.99},\n",
       "   {'product': 'Widget B', 'quantity': 1, 'price': 29.99}],\n",
       "  'order_total': 69.97,\n",
       "  'status': 'shipped'},\n",
       " {'order_id': 'A1002',\n",
       "  'customer': {'id': 'C002', 'name': 'Bob Smith'},\n",
       "  'items': [{'product': 'Widget A', 'quantity': 1, 'price': 19.99}],\n",
       "  'order_total': 19.99,\n",
       "  'status': 'processing'}]"
      ]
     },
     "execution_count": 1,
     "metadata": {},
     "output_type": "execute_result"
    }
   ],
   "source": [
    "# Load and inspect the JSON file\n",
    "# Update your path below\n",
    "import json\n",
    "from pathlib import Path\n",
    "\n",
    "json_path = Path('/content/sample_data/example_nested.json')\n",
    "with open(json_path) as f:\n",
    "    data = json.load(f)\n",
    "\n",
    "# View the data\n",
    "data"
   ]
  },
  {
   "cell_type": "markdown",
   "metadata": {
    "id": "IQxnVfhS4vo1"
   },
   "source": [
    "Traditional Parsing with pandas and json_normalize"
   ]
  },
  {
   "cell_type": "code",
   "execution_count": 2,
   "metadata": {
    "colab": {
     "base_uri": "https://localhost:8080/",
     "height": 143
    },
    "executionInfo": {
     "elapsed": 482,
     "status": "ok",
     "timestamp": 1753803541649,
     "user": {
      "displayName": "Deanne Larson",
      "userId": "09225825831789068588"
     },
     "user_tz": 420
    },
    "id": "CVoceScz4whn",
    "outputId": "ff9760dc-9f6a-4483-e913-73c60800e42b"
   },
   "outputs": [
    {
     "data": {
      "application/vnd.google.colaboratory.intrinsic+json": {
       "summary": "{\n  \"name\": \"df\",\n  \"rows\": 3,\n  \"fields\": [\n    {\n      \"column\": \"product\",\n      \"properties\": {\n        \"dtype\": \"string\",\n        \"num_unique_values\": 2,\n        \"samples\": [\n          \"Widget B\",\n          \"Widget A\"\n        ],\n        \"semantic_type\": \"\",\n        \"description\": \"\"\n      }\n    },\n    {\n      \"column\": \"quantity\",\n      \"properties\": {\n        \"dtype\": \"number\",\n        \"std\": 0,\n        \"min\": 1,\n        \"max\": 2,\n        \"num_unique_values\": 2,\n        \"samples\": [\n          1,\n          2\n        ],\n        \"semantic_type\": \"\",\n        \"description\": \"\"\n      }\n    },\n    {\n      \"column\": \"price\",\n      \"properties\": {\n        \"dtype\": \"number\",\n        \"std\": 5.773502691896258,\n        \"min\": 19.99,\n        \"max\": 29.99,\n        \"num_unique_values\": 2,\n        \"samples\": [\n          29.99,\n          19.99\n        ],\n        \"semantic_type\": \"\",\n        \"description\": \"\"\n      }\n    },\n    {\n      \"column\": \"order_id\",\n      \"properties\": {\n        \"dtype\": \"string\",\n        \"num_unique_values\": 2,\n        \"samples\": [\n          \"A1002\",\n          \"A1001\"\n        ],\n        \"semantic_type\": \"\",\n        \"description\": \"\"\n      }\n    },\n    {\n      \"column\": \"order_total\",\n      \"properties\": {\n        \"dtype\": \"date\",\n        \"min\": 19.99,\n        \"max\": 69.97,\n        \"num_unique_values\": 2,\n        \"samples\": [\n          19.99,\n          69.97\n        ],\n        \"semantic_type\": \"\",\n        \"description\": \"\"\n      }\n    },\n    {\n      \"column\": \"status\",\n      \"properties\": {\n        \"dtype\": \"string\",\n        \"num_unique_values\": 2,\n        \"samples\": [\n          \"processing\",\n          \"shipped\"\n        ],\n        \"semantic_type\": \"\",\n        \"description\": \"\"\n      }\n    },\n    {\n      \"column\": \"customer.id\",\n      \"properties\": {\n        \"dtype\": \"string\",\n        \"num_unique_values\": 2,\n        \"samples\": [\n          \"C002\",\n          \"C001\"\n        ],\n        \"semantic_type\": \"\",\n        \"description\": \"\"\n      }\n    },\n    {\n      \"column\": \"customer.name\",\n      \"properties\": {\n        \"dtype\": \"string\",\n        \"num_unique_values\": 2,\n        \"samples\": [\n          \"Bob Smith\",\n          \"Alice Johnson\"\n        ],\n        \"semantic_type\": \"\",\n        \"description\": \"\"\n      }\n    }\n  ]\n}",
       "type": "dataframe",
       "variable_name": "df"
      },
      "text/html": [
       "\n",
       "  <div id=\"df-05c1aa68-4fca-4010-9ffc-12c473686042\" class=\"colab-df-container\">\n",
       "    <div>\n",
       "<style scoped>\n",
       "    .dataframe tbody tr th:only-of-type {\n",
       "        vertical-align: middle;\n",
       "    }\n",
       "\n",
       "    .dataframe tbody tr th {\n",
       "        vertical-align: top;\n",
       "    }\n",
       "\n",
       "    .dataframe thead th {\n",
       "        text-align: right;\n",
       "    }\n",
       "</style>\n",
       "<table border=\"1\" class=\"dataframe\">\n",
       "  <thead>\n",
       "    <tr style=\"text-align: right;\">\n",
       "      <th></th>\n",
       "      <th>product</th>\n",
       "      <th>quantity</th>\n",
       "      <th>price</th>\n",
       "      <th>order_id</th>\n",
       "      <th>order_total</th>\n",
       "      <th>status</th>\n",
       "      <th>customer.id</th>\n",
       "      <th>customer.name</th>\n",
       "    </tr>\n",
       "  </thead>\n",
       "  <tbody>\n",
       "    <tr>\n",
       "      <th>0</th>\n",
       "      <td>Widget A</td>\n",
       "      <td>2</td>\n",
       "      <td>19.99</td>\n",
       "      <td>A1001</td>\n",
       "      <td>69.97</td>\n",
       "      <td>shipped</td>\n",
       "      <td>C001</td>\n",
       "      <td>Alice Johnson</td>\n",
       "    </tr>\n",
       "    <tr>\n",
       "      <th>1</th>\n",
       "      <td>Widget B</td>\n",
       "      <td>1</td>\n",
       "      <td>29.99</td>\n",
       "      <td>A1001</td>\n",
       "      <td>69.97</td>\n",
       "      <td>shipped</td>\n",
       "      <td>C001</td>\n",
       "      <td>Alice Johnson</td>\n",
       "    </tr>\n",
       "    <tr>\n",
       "      <th>2</th>\n",
       "      <td>Widget A</td>\n",
       "      <td>1</td>\n",
       "      <td>19.99</td>\n",
       "      <td>A1002</td>\n",
       "      <td>19.99</td>\n",
       "      <td>processing</td>\n",
       "      <td>C002</td>\n",
       "      <td>Bob Smith</td>\n",
       "    </tr>\n",
       "  </tbody>\n",
       "</table>\n",
       "</div>\n",
       "    <div class=\"colab-df-buttons\">\n",
       "\n",
       "  <div class=\"colab-df-container\">\n",
       "    <button class=\"colab-df-convert\" onclick=\"convertToInteractive('df-05c1aa68-4fca-4010-9ffc-12c473686042')\"\n",
       "            title=\"Convert this dataframe to an interactive table.\"\n",
       "            style=\"display:none;\">\n",
       "\n",
       "  <svg xmlns=\"http://www.w3.org/2000/svg\" height=\"24px\" viewBox=\"0 -960 960 960\">\n",
       "    <path d=\"M120-120v-720h720v720H120Zm60-500h600v-160H180v160Zm220 220h160v-160H400v160Zm0 220h160v-160H400v160ZM180-400h160v-160H180v160Zm440 0h160v-160H620v160ZM180-180h160v-160H180v160Zm440 0h160v-160H620v160Z\"/>\n",
       "  </svg>\n",
       "    </button>\n",
       "\n",
       "  <style>\n",
       "    .colab-df-container {\n",
       "      display:flex;\n",
       "      gap: 12px;\n",
       "    }\n",
       "\n",
       "    .colab-df-convert {\n",
       "      background-color: #E8F0FE;\n",
       "      border: none;\n",
       "      border-radius: 50%;\n",
       "      cursor: pointer;\n",
       "      display: none;\n",
       "      fill: #1967D2;\n",
       "      height: 32px;\n",
       "      padding: 0 0 0 0;\n",
       "      width: 32px;\n",
       "    }\n",
       "\n",
       "    .colab-df-convert:hover {\n",
       "      background-color: #E2EBFA;\n",
       "      box-shadow: 0px 1px 2px rgba(60, 64, 67, 0.3), 0px 1px 3px 1px rgba(60, 64, 67, 0.15);\n",
       "      fill: #174EA6;\n",
       "    }\n",
       "\n",
       "    .colab-df-buttons div {\n",
       "      margin-bottom: 4px;\n",
       "    }\n",
       "\n",
       "    [theme=dark] .colab-df-convert {\n",
       "      background-color: #3B4455;\n",
       "      fill: #D2E3FC;\n",
       "    }\n",
       "\n",
       "    [theme=dark] .colab-df-convert:hover {\n",
       "      background-color: #434B5C;\n",
       "      box-shadow: 0px 1px 3px 1px rgba(0, 0, 0, 0.15);\n",
       "      filter: drop-shadow(0px 1px 2px rgba(0, 0, 0, 0.3));\n",
       "      fill: #FFFFFF;\n",
       "    }\n",
       "  </style>\n",
       "\n",
       "    <script>\n",
       "      const buttonEl =\n",
       "        document.querySelector('#df-05c1aa68-4fca-4010-9ffc-12c473686042 button.colab-df-convert');\n",
       "      buttonEl.style.display =\n",
       "        google.colab.kernel.accessAllowed ? 'block' : 'none';\n",
       "\n",
       "      async function convertToInteractive(key) {\n",
       "        const element = document.querySelector('#df-05c1aa68-4fca-4010-9ffc-12c473686042');\n",
       "        const dataTable =\n",
       "          await google.colab.kernel.invokeFunction('convertToInteractive',\n",
       "                                                    [key], {});\n",
       "        if (!dataTable) return;\n",
       "\n",
       "        const docLinkHtml = 'Like what you see? Visit the ' +\n",
       "          '<a target=\"_blank\" href=https://colab.research.google.com/notebooks/data_table.ipynb>data table notebook</a>'\n",
       "          + ' to learn more about interactive tables.';\n",
       "        element.innerHTML = '';\n",
       "        dataTable['output_type'] = 'display_data';\n",
       "        await google.colab.output.renderOutput(dataTable, element);\n",
       "        const docLink = document.createElement('div');\n",
       "        docLink.innerHTML = docLinkHtml;\n",
       "        element.appendChild(docLink);\n",
       "      }\n",
       "    </script>\n",
       "  </div>\n",
       "\n",
       "\n",
       "    <div id=\"df-a8649380-db5d-4431-9383-54031c8861cb\">\n",
       "      <button class=\"colab-df-quickchart\" onclick=\"quickchart('df-a8649380-db5d-4431-9383-54031c8861cb')\"\n",
       "                title=\"Suggest charts\"\n",
       "                style=\"display:none;\">\n",
       "\n",
       "<svg xmlns=\"http://www.w3.org/2000/svg\" height=\"24px\"viewBox=\"0 0 24 24\"\n",
       "     width=\"24px\">\n",
       "    <g>\n",
       "        <path d=\"M19 3H5c-1.1 0-2 .9-2 2v14c0 1.1.9 2 2 2h14c1.1 0 2-.9 2-2V5c0-1.1-.9-2-2-2zM9 17H7v-7h2v7zm4 0h-2V7h2v10zm4 0h-2v-4h2v4z\"/>\n",
       "    </g>\n",
       "</svg>\n",
       "      </button>\n",
       "\n",
       "<style>\n",
       "  .colab-df-quickchart {\n",
       "      --bg-color: #E8F0FE;\n",
       "      --fill-color: #1967D2;\n",
       "      --hover-bg-color: #E2EBFA;\n",
       "      --hover-fill-color: #174EA6;\n",
       "      --disabled-fill-color: #AAA;\n",
       "      --disabled-bg-color: #DDD;\n",
       "  }\n",
       "\n",
       "  [theme=dark] .colab-df-quickchart {\n",
       "      --bg-color: #3B4455;\n",
       "      --fill-color: #D2E3FC;\n",
       "      --hover-bg-color: #434B5C;\n",
       "      --hover-fill-color: #FFFFFF;\n",
       "      --disabled-bg-color: #3B4455;\n",
       "      --disabled-fill-color: #666;\n",
       "  }\n",
       "\n",
       "  .colab-df-quickchart {\n",
       "    background-color: var(--bg-color);\n",
       "    border: none;\n",
       "    border-radius: 50%;\n",
       "    cursor: pointer;\n",
       "    display: none;\n",
       "    fill: var(--fill-color);\n",
       "    height: 32px;\n",
       "    padding: 0;\n",
       "    width: 32px;\n",
       "  }\n",
       "\n",
       "  .colab-df-quickchart:hover {\n",
       "    background-color: var(--hover-bg-color);\n",
       "    box-shadow: 0 1px 2px rgba(60, 64, 67, 0.3), 0 1px 3px 1px rgba(60, 64, 67, 0.15);\n",
       "    fill: var(--button-hover-fill-color);\n",
       "  }\n",
       "\n",
       "  .colab-df-quickchart-complete:disabled,\n",
       "  .colab-df-quickchart-complete:disabled:hover {\n",
       "    background-color: var(--disabled-bg-color);\n",
       "    fill: var(--disabled-fill-color);\n",
       "    box-shadow: none;\n",
       "  }\n",
       "\n",
       "  .colab-df-spinner {\n",
       "    border: 2px solid var(--fill-color);\n",
       "    border-color: transparent;\n",
       "    border-bottom-color: var(--fill-color);\n",
       "    animation:\n",
       "      spin 1s steps(1) infinite;\n",
       "  }\n",
       "\n",
       "  @keyframes spin {\n",
       "    0% {\n",
       "      border-color: transparent;\n",
       "      border-bottom-color: var(--fill-color);\n",
       "      border-left-color: var(--fill-color);\n",
       "    }\n",
       "    20% {\n",
       "      border-color: transparent;\n",
       "      border-left-color: var(--fill-color);\n",
       "      border-top-color: var(--fill-color);\n",
       "    }\n",
       "    30% {\n",
       "      border-color: transparent;\n",
       "      border-left-color: var(--fill-color);\n",
       "      border-top-color: var(--fill-color);\n",
       "      border-right-color: var(--fill-color);\n",
       "    }\n",
       "    40% {\n",
       "      border-color: transparent;\n",
       "      border-right-color: var(--fill-color);\n",
       "      border-top-color: var(--fill-color);\n",
       "    }\n",
       "    60% {\n",
       "      border-color: transparent;\n",
       "      border-right-color: var(--fill-color);\n",
       "    }\n",
       "    80% {\n",
       "      border-color: transparent;\n",
       "      border-right-color: var(--fill-color);\n",
       "      border-bottom-color: var(--fill-color);\n",
       "    }\n",
       "    90% {\n",
       "      border-color: transparent;\n",
       "      border-bottom-color: var(--fill-color);\n",
       "    }\n",
       "  }\n",
       "</style>\n",
       "\n",
       "      <script>\n",
       "        async function quickchart(key) {\n",
       "          const quickchartButtonEl =\n",
       "            document.querySelector('#' + key + ' button');\n",
       "          quickchartButtonEl.disabled = true;  // To prevent multiple clicks.\n",
       "          quickchartButtonEl.classList.add('colab-df-spinner');\n",
       "          try {\n",
       "            const charts = await google.colab.kernel.invokeFunction(\n",
       "                'suggestCharts', [key], {});\n",
       "          } catch (error) {\n",
       "            console.error('Error during call to suggestCharts:', error);\n",
       "          }\n",
       "          quickchartButtonEl.classList.remove('colab-df-spinner');\n",
       "          quickchartButtonEl.classList.add('colab-df-quickchart-complete');\n",
       "        }\n",
       "        (() => {\n",
       "          let quickchartButtonEl =\n",
       "            document.querySelector('#df-a8649380-db5d-4431-9383-54031c8861cb button');\n",
       "          quickchartButtonEl.style.display =\n",
       "            google.colab.kernel.accessAllowed ? 'block' : 'none';\n",
       "        })();\n",
       "      </script>\n",
       "    </div>\n",
       "\n",
       "    </div>\n",
       "  </div>\n"
      ],
      "text/plain": [
       "    product  quantity  price order_id order_total      status customer.id  \\\n",
       "0  Widget A         2  19.99    A1001       69.97     shipped        C001   \n",
       "1  Widget B         1  29.99    A1001       69.97     shipped        C001   \n",
       "2  Widget A         1  19.99    A1002       19.99  processing        C002   \n",
       "\n",
       "   customer.name  \n",
       "0  Alice Johnson  \n",
       "1  Alice Johnson  \n",
       "2      Bob Smith  "
      ]
     },
     "execution_count": 2,
     "metadata": {},
     "output_type": "execute_result"
    }
   ],
   "source": [
    "import pandas as pd\n",
    "\n",
    "# Flatten the nested JSON\n",
    "df = pd.json_normalize(data,\n",
    "                       record_path='items',\n",
    "                       meta=['order_id', 'order_total', 'status', ['customer', 'id'], ['customer', 'name']],\n",
    "                       errors='ignore')\n",
    "\n",
    "df.head()"
   ]
  },
  {
   "cell_type": "code",
   "execution_count": 3,
   "metadata": {
    "executionInfo": {
     "elapsed": 50,
     "status": "ok",
     "timestamp": 1753803545048,
     "user": {
      "displayName": "Deanne Larson",
      "userId": "09225825831789068588"
     },
     "user_tz": 420
    },
    "id": "lsyuNOwGNnYC"
   },
   "outputs": [],
   "source": [
    "import os\n",
    "os.environ[\"OPENAI_API_KEY\"]= \"insert your key here\""
   ]
  },
  {
   "cell_type": "code",
   "execution_count": 4,
   "metadata": {
    "executionInfo": {
     "elapsed": 1030,
     "status": "ok",
     "timestamp": 1753803548031,
     "user": {
      "displayName": "Deanne Larson",
      "userId": "09225825831789068588"
     },
     "user_tz": 420
    },
    "id": "sTskhgVIQPSI"
   },
   "outputs": [],
   "source": [
    "import openai\n",
    "import pandas as pd\n"
   ]
  },
  {
   "cell_type": "code",
   "execution_count": 5,
   "metadata": {
    "executionInfo": {
     "elapsed": 8,
     "status": "ok",
     "timestamp": 1753803550497,
     "user": {
      "displayName": "Deanne Larson",
      "userId": "09225825831789068588"
     },
     "user_tz": 420
    },
    "id": "neGKptGq8zPN"
   },
   "outputs": [],
   "source": [
    "import os\n",
    "import openai\n",
    "import pandas as pd\n",
    "import json\n",
    "\n",
    "# Function to prompt ChatGPT with dataset insights\n",
    "def ask_chatgpt2(question, json_string):\n",
    "    try:\n",
    "        # Convert JSON string to Python object\n",
    "        json_obj = json.loads(json_string)\n",
    "\n",
    "        # Flatten the JSON if needed and convert to DataFrame\n",
    "        if isinstance(json_obj, dict):\n",
    "            df = pd.json_normalize(json_obj)\n",
    "        elif isinstance(json_obj, list):\n",
    "            df = pd.json_normalize(json_obj)\n",
    "        else:\n",
    "            raise ValueError(\"Unsupported JSON structure\")\n",
    "\n",
    "        # Limit data to first 100 rows for brevity\n",
    "        dataset_str = df.head(100).to_string(index=False)\n",
    "\n",
    "        # Construct prompt\n",
    "        prompt = f\"Here is the dataset:\\n{dataset_str}\\n\\nQuestion: {question}\"\n",
    "\n",
    "        # Call OpenAI API\n",
    "        response = openai.chat.completions.create(\n",
    "            model=\"gpt-4-turbo\",\n",
    "            messages=[\n",
    "                {\"role\": \"system\", \"content\": \"You are a data analyst with expertise in Python, data visualization, and statistical analysis.\"},\n",
    "                {\"role\": \"user\", \"content\": prompt}\n",
    "            ],\n",
    "            max_tokens=150,\n",
    "            temperature=0.7\n",
    "        )\n",
    "\n",
    "        return response.choices[0].message.content.strip()\n",
    "\n",
    "    except Exception as e:\n",
    "        return f\"Error processing JSON: {e}\"\n"
   ]
  },
  {
   "cell_type": "code",
   "execution_count": 6,
   "metadata": {
    "colab": {
     "base_uri": "https://localhost:8080/"
    },
    "executionInfo": {
     "elapsed": 4655,
     "status": "ok",
     "timestamp": 1753803560479,
     "user": {
      "displayName": "Deanne Larson",
      "userId": "09225825831789068588"
     },
     "user_tz": 420
    },
    "id": "DiR9S5fu837S",
    "outputId": "2fb5ec1f-7dc1-4285-a96a-39f4a9d539b0"
   },
   "outputs": [
    {
     "name": "stdout",
     "output_type": "stream",
     "text": [
      "The dataset you provided appears to be a table, with each row representing an order made by a customer. The fields and their types, based on the information provided, can be inferred as follows:\n",
      "\n",
      "1. **order_id** (String): A unique identifier for each order (e.g., 'A1001', 'A1002').\n",
      "\n",
      "2. **items** (List of Dictionaries/JSON Objects): This field contains details about the products ordered. Each item in the list is a dictionary with the following keys:\n",
      "   - **product** (String): The name of the product (e.g., 'Widget A', 'Widget B').\n",
      "   - **quantity** (Integer): The number of units of the product ordered.\n",
      "   - **\n"
     ]
    }
   ],
   "source": [
    "# Load JSON file and convert to string\n",
    "with open(\"/content/sample_data/example_nested.json\", \"r\") as f:\n",
    "    json_data_string = f.read()\n",
    "\n",
    "question = \"Analyze the following nested JSON structure and describe the schema, field types, and relationships\"\n",
    "response = ask_chatgpt2(question, json_data_string)\n",
    "print(response)\n"
   ]
  },
  {
   "cell_type": "code",
   "execution_count": 9,
   "metadata": {
    "colab": {
     "base_uri": "https://localhost:8080/"
    },
    "executionInfo": {
     "elapsed": 7680,
     "status": "ok",
     "timestamp": 1753803692389,
     "user": {
      "displayName": "Deanne Larson",
      "userId": "09225825831789068588"
     },
     "user_tz": 420
    },
    "id": "Su1R2WYJ_ogO",
    "outputId": "99b380d8-7c97-4232-c118-6dcf12b73c38"
   },
   "outputs": [
    {
     "name": "stdout",
     "output_type": "stream",
     "text": [
      "To flatten the JSON-like data you provided, we can use Python with libraries like `pandas` and `json_normalize` from `pandas.io.json`. The dataset as you described seems to be in a structured form that includes nested elements, particularly in the `items` field.\n",
      "\n",
      "Below is the Python code that flattens the dataset and merges customer information and items:\n",
      "\n",
      "```python\n",
      "import pandas as pd\n",
      "from pandas import json_normalize\n",
      "\n",
      "# Define the dataset\n",
      "data = [\n",
      "    {\n",
      "        \"order_id\": \"A1001\",\n",
      "        \"items\": [\n",
      "            {\"product\": \"Widget A\", \"quantity\": 2, \"price\": 19.99},\n",
      "            {\"product\": \"Widget B\", \"quantity\": 1, \"\n"
     ]
    }
   ],
   "source": [
    "question = \"Write and provide the executable Python code to flatten the following JSON structure for analysis. Ensure that nested customer info and items are merged appropriately\"\n",
    "response = ask_chatgpt2(question, json_data_string)\n",
    "print(response)"
   ]
  }
 ],
 "metadata": {
  "colab": {
   "provenance": []
  },
  "kernelspec": {
   "display_name": "Python 3 (ipykernel)",
   "language": "python",
   "name": "python3"
  },
  "language_info": {
   "codemirror_mode": {
    "name": "ipython",
    "version": 3
   },
   "file_extension": ".py",
   "mimetype": "text/x-python",
   "name": "python",
   "nbconvert_exporter": "python",
   "pygments_lexer": "ipython3",
   "version": "3.9.13"
  }
 },
 "nbformat": 4,
 "nbformat_minor": 1
}

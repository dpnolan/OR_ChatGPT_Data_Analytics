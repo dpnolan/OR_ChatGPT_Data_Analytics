{
 "cells": [
  {
   "cell_type": "markdown",
   "id": "8ecf4869",
   "metadata": {
    "id": "8ecf4869"
   },
   "source": [
    "# Behavioral Pattern Recognition with Python and ChatGPT\n",
    "This hands-on exercise teaches how to analyze user behavior using clickstream data. You'll explore user paths, drop-off points, and entry patterns—first using traditional Python techniques, then using the ChatGPT API for comparison."
   ]
  },
  {
   "cell_type": "markdown",
   "id": "a3aac3e1",
   "metadata": {
    "id": "a3aac3e1"
   },
   "source": [
    "## Dataset Description\n",
    "**Filename:** `sample_clickstream_data.csv`\n",
    "\n",
    "This synthetic dataset simulates user sessions on a website. It includes:\n",
    "- `user_id`: Unique ID for each user\n",
    "- `step`: Step in the session (navigation order)\n",
    "- `page`: Page visited\n",
    "- `entry_point`: First page of the session\n",
    "- `drop_off_point`: Last page of the session\n",
    "- `visitor_type`: New or Returning visitor\n",
    "\n"
   ]
  },
  {
   "cell_type": "markdown",
   "id": "fa994b23",
   "metadata": {
    "id": "fa994b23"
   },
   "source": [
    "## Goals\n",
    "By the end of this exercise, you will be able to:\n",
    "- Identify user behavior patterns using Python\n",
    "- Summarize findings with visualizations\n",
    "- Use ChatGPT to extract insights from aggregated data\n",
    "- Compare traditional and AI-assisted analysis methods"
   ]
  },
  {
   "cell_type": "markdown",
   "id": "734e8d66",
   "metadata": {
    "id": "734e8d66"
   },
   "source": [
    "# Behavioral Pattern Recognition: Traditional Python vs. ChatGPT API"
   ]
  },
  {
   "cell_type": "code",
   "execution_count": 1,
   "id": "8b662cfa",
   "metadata": {
    "colab": {
     "base_uri": "https://localhost:8080/",
     "height": 206
    },
    "executionInfo": {
     "elapsed": 2487,
     "status": "ok",
     "timestamp": 1753805327337,
     "user": {
      "displayName": "Deanne Larson",
      "userId": "09225825831789068588"
     },
     "user_tz": 420
    },
    "id": "8b662cfa",
    "outputId": "20f9dde5-89a5-4049-a3fc-72da1e8f4806"
   },
   "outputs": [
    {
     "data": {
      "application/vnd.google.colaboratory.intrinsic+json": {
       "summary": "{\n  \"name\": \"df\",\n  \"rows\": 259,\n  \"fields\": [\n    {\n      \"column\": \"user_id\",\n      \"properties\": {\n        \"dtype\": \"category\",\n        \"num_unique_values\": 50,\n        \"samples\": [\n          \"U014\",\n          \"U040\",\n          \"U031\"\n        ],\n        \"semantic_type\": \"\",\n        \"description\": \"\"\n      }\n    },\n    {\n      \"column\": \"step\",\n      \"properties\": {\n        \"dtype\": \"number\",\n        \"std\": 1,\n        \"min\": 1,\n        \"max\": 7,\n        \"num_unique_values\": 7,\n        \"samples\": [\n          1,\n          2,\n          6\n        ],\n        \"semantic_type\": \"\",\n        \"description\": \"\"\n      }\n    },\n    {\n      \"column\": \"page\",\n      \"properties\": {\n        \"dtype\": \"category\",\n        \"num_unique_values\": 7,\n        \"samples\": [\n          \"Cart\",\n          \"Login\",\n          \"Home\"\n        ],\n        \"semantic_type\": \"\",\n        \"description\": \"\"\n      }\n    },\n    {\n      \"column\": \"entry_point\",\n      \"properties\": {\n        \"dtype\": \"category\",\n        \"num_unique_values\": 7,\n        \"samples\": [\n          \"Cart\",\n          \"Login\",\n          \"Search\"\n        ],\n        \"semantic_type\": \"\",\n        \"description\": \"\"\n      }\n    },\n    {\n      \"column\": \"drop_off_point\",\n      \"properties\": {\n        \"dtype\": \"category\",\n        \"num_unique_values\": 7,\n        \"samples\": [\n          \"Checkout\",\n          \"Cart\",\n          \"Search\"\n        ],\n        \"semantic_type\": \"\",\n        \"description\": \"\"\n      }\n    },\n    {\n      \"column\": \"visitor_type\",\n      \"properties\": {\n        \"dtype\": \"category\",\n        \"num_unique_values\": 2,\n        \"samples\": [\n          \"New\",\n          \"Returning\"\n        ],\n        \"semantic_type\": \"\",\n        \"description\": \"\"\n      }\n    }\n  ]\n}",
       "type": "dataframe",
       "variable_name": "df"
      },
      "text/html": [
       "\n",
       "  <div id=\"df-80cadb66-77e1-4e75-abd7-0d576f7a3fcc\" class=\"colab-df-container\">\n",
       "    <div>\n",
       "<style scoped>\n",
       "    .dataframe tbody tr th:only-of-type {\n",
       "        vertical-align: middle;\n",
       "    }\n",
       "\n",
       "    .dataframe tbody tr th {\n",
       "        vertical-align: top;\n",
       "    }\n",
       "\n",
       "    .dataframe thead th {\n",
       "        text-align: right;\n",
       "    }\n",
       "</style>\n",
       "<table border=\"1\" class=\"dataframe\">\n",
       "  <thead>\n",
       "    <tr style=\"text-align: right;\">\n",
       "      <th></th>\n",
       "      <th>user_id</th>\n",
       "      <th>step</th>\n",
       "      <th>page</th>\n",
       "      <th>entry_point</th>\n",
       "      <th>drop_off_point</th>\n",
       "      <th>visitor_type</th>\n",
       "    </tr>\n",
       "  </thead>\n",
       "  <tbody>\n",
       "    <tr>\n",
       "      <th>0</th>\n",
       "      <td>U001</td>\n",
       "      <td>1</td>\n",
       "      <td>Cart</td>\n",
       "      <td>Cart</td>\n",
       "      <td>Checkout</td>\n",
       "      <td>Returning</td>\n",
       "    </tr>\n",
       "    <tr>\n",
       "      <th>1</th>\n",
       "      <td>U001</td>\n",
       "      <td>2</td>\n",
       "      <td>Login</td>\n",
       "      <td>Cart</td>\n",
       "      <td>Checkout</td>\n",
       "      <td>Returning</td>\n",
       "    </tr>\n",
       "    <tr>\n",
       "      <th>2</th>\n",
       "      <td>U001</td>\n",
       "      <td>3</td>\n",
       "      <td>Cart</td>\n",
       "      <td>Cart</td>\n",
       "      <td>Checkout</td>\n",
       "      <td>Returning</td>\n",
       "    </tr>\n",
       "    <tr>\n",
       "      <th>3</th>\n",
       "      <td>U001</td>\n",
       "      <td>4</td>\n",
       "      <td>Login</td>\n",
       "      <td>Cart</td>\n",
       "      <td>Checkout</td>\n",
       "      <td>Returning</td>\n",
       "    </tr>\n",
       "    <tr>\n",
       "      <th>4</th>\n",
       "      <td>U001</td>\n",
       "      <td>5</td>\n",
       "      <td>Cart</td>\n",
       "      <td>Cart</td>\n",
       "      <td>Checkout</td>\n",
       "      <td>Returning</td>\n",
       "    </tr>\n",
       "  </tbody>\n",
       "</table>\n",
       "</div>\n",
       "    <div class=\"colab-df-buttons\">\n",
       "\n",
       "  <div class=\"colab-df-container\">\n",
       "    <button class=\"colab-df-convert\" onclick=\"convertToInteractive('df-80cadb66-77e1-4e75-abd7-0d576f7a3fcc')\"\n",
       "            title=\"Convert this dataframe to an interactive table.\"\n",
       "            style=\"display:none;\">\n",
       "\n",
       "  <svg xmlns=\"http://www.w3.org/2000/svg\" height=\"24px\" viewBox=\"0 -960 960 960\">\n",
       "    <path d=\"M120-120v-720h720v720H120Zm60-500h600v-160H180v160Zm220 220h160v-160H400v160Zm0 220h160v-160H400v160ZM180-400h160v-160H180v160Zm440 0h160v-160H620v160ZM180-180h160v-160H180v160Zm440 0h160v-160H620v160Z\"/>\n",
       "  </svg>\n",
       "    </button>\n",
       "\n",
       "  <style>\n",
       "    .colab-df-container {\n",
       "      display:flex;\n",
       "      gap: 12px;\n",
       "    }\n",
       "\n",
       "    .colab-df-convert {\n",
       "      background-color: #E8F0FE;\n",
       "      border: none;\n",
       "      border-radius: 50%;\n",
       "      cursor: pointer;\n",
       "      display: none;\n",
       "      fill: #1967D2;\n",
       "      height: 32px;\n",
       "      padding: 0 0 0 0;\n",
       "      width: 32px;\n",
       "    }\n",
       "\n",
       "    .colab-df-convert:hover {\n",
       "      background-color: #E2EBFA;\n",
       "      box-shadow: 0px 1px 2px rgba(60, 64, 67, 0.3), 0px 1px 3px 1px rgba(60, 64, 67, 0.15);\n",
       "      fill: #174EA6;\n",
       "    }\n",
       "\n",
       "    .colab-df-buttons div {\n",
       "      margin-bottom: 4px;\n",
       "    }\n",
       "\n",
       "    [theme=dark] .colab-df-convert {\n",
       "      background-color: #3B4455;\n",
       "      fill: #D2E3FC;\n",
       "    }\n",
       "\n",
       "    [theme=dark] .colab-df-convert:hover {\n",
       "      background-color: #434B5C;\n",
       "      box-shadow: 0px 1px 3px 1px rgba(0, 0, 0, 0.15);\n",
       "      filter: drop-shadow(0px 1px 2px rgba(0, 0, 0, 0.3));\n",
       "      fill: #FFFFFF;\n",
       "    }\n",
       "  </style>\n",
       "\n",
       "    <script>\n",
       "      const buttonEl =\n",
       "        document.querySelector('#df-80cadb66-77e1-4e75-abd7-0d576f7a3fcc button.colab-df-convert');\n",
       "      buttonEl.style.display =\n",
       "        google.colab.kernel.accessAllowed ? 'block' : 'none';\n",
       "\n",
       "      async function convertToInteractive(key) {\n",
       "        const element = document.querySelector('#df-80cadb66-77e1-4e75-abd7-0d576f7a3fcc');\n",
       "        const dataTable =\n",
       "          await google.colab.kernel.invokeFunction('convertToInteractive',\n",
       "                                                    [key], {});\n",
       "        if (!dataTable) return;\n",
       "\n",
       "        const docLinkHtml = 'Like what you see? Visit the ' +\n",
       "          '<a target=\"_blank\" href=https://colab.research.google.com/notebooks/data_table.ipynb>data table notebook</a>'\n",
       "          + ' to learn more about interactive tables.';\n",
       "        element.innerHTML = '';\n",
       "        dataTable['output_type'] = 'display_data';\n",
       "        await google.colab.output.renderOutput(dataTable, element);\n",
       "        const docLink = document.createElement('div');\n",
       "        docLink.innerHTML = docLinkHtml;\n",
       "        element.appendChild(docLink);\n",
       "      }\n",
       "    </script>\n",
       "  </div>\n",
       "\n",
       "\n",
       "    <div id=\"df-b19b67a2-0fb9-4b88-b2c4-3410f2c9ccbc\">\n",
       "      <button class=\"colab-df-quickchart\" onclick=\"quickchart('df-b19b67a2-0fb9-4b88-b2c4-3410f2c9ccbc')\"\n",
       "                title=\"Suggest charts\"\n",
       "                style=\"display:none;\">\n",
       "\n",
       "<svg xmlns=\"http://www.w3.org/2000/svg\" height=\"24px\"viewBox=\"0 0 24 24\"\n",
       "     width=\"24px\">\n",
       "    <g>\n",
       "        <path d=\"M19 3H5c-1.1 0-2 .9-2 2v14c0 1.1.9 2 2 2h14c1.1 0 2-.9 2-2V5c0-1.1-.9-2-2-2zM9 17H7v-7h2v7zm4 0h-2V7h2v10zm4 0h-2v-4h2v4z\"/>\n",
       "    </g>\n",
       "</svg>\n",
       "      </button>\n",
       "\n",
       "<style>\n",
       "  .colab-df-quickchart {\n",
       "      --bg-color: #E8F0FE;\n",
       "      --fill-color: #1967D2;\n",
       "      --hover-bg-color: #E2EBFA;\n",
       "      --hover-fill-color: #174EA6;\n",
       "      --disabled-fill-color: #AAA;\n",
       "      --disabled-bg-color: #DDD;\n",
       "  }\n",
       "\n",
       "  [theme=dark] .colab-df-quickchart {\n",
       "      --bg-color: #3B4455;\n",
       "      --fill-color: #D2E3FC;\n",
       "      --hover-bg-color: #434B5C;\n",
       "      --hover-fill-color: #FFFFFF;\n",
       "      --disabled-bg-color: #3B4455;\n",
       "      --disabled-fill-color: #666;\n",
       "  }\n",
       "\n",
       "  .colab-df-quickchart {\n",
       "    background-color: var(--bg-color);\n",
       "    border: none;\n",
       "    border-radius: 50%;\n",
       "    cursor: pointer;\n",
       "    display: none;\n",
       "    fill: var(--fill-color);\n",
       "    height: 32px;\n",
       "    padding: 0;\n",
       "    width: 32px;\n",
       "  }\n",
       "\n",
       "  .colab-df-quickchart:hover {\n",
       "    background-color: var(--hover-bg-color);\n",
       "    box-shadow: 0 1px 2px rgba(60, 64, 67, 0.3), 0 1px 3px 1px rgba(60, 64, 67, 0.15);\n",
       "    fill: var(--button-hover-fill-color);\n",
       "  }\n",
       "\n",
       "  .colab-df-quickchart-complete:disabled,\n",
       "  .colab-df-quickchart-complete:disabled:hover {\n",
       "    background-color: var(--disabled-bg-color);\n",
       "    fill: var(--disabled-fill-color);\n",
       "    box-shadow: none;\n",
       "  }\n",
       "\n",
       "  .colab-df-spinner {\n",
       "    border: 2px solid var(--fill-color);\n",
       "    border-color: transparent;\n",
       "    border-bottom-color: var(--fill-color);\n",
       "    animation:\n",
       "      spin 1s steps(1) infinite;\n",
       "  }\n",
       "\n",
       "  @keyframes spin {\n",
       "    0% {\n",
       "      border-color: transparent;\n",
       "      border-bottom-color: var(--fill-color);\n",
       "      border-left-color: var(--fill-color);\n",
       "    }\n",
       "    20% {\n",
       "      border-color: transparent;\n",
       "      border-left-color: var(--fill-color);\n",
       "      border-top-color: var(--fill-color);\n",
       "    }\n",
       "    30% {\n",
       "      border-color: transparent;\n",
       "      border-left-color: var(--fill-color);\n",
       "      border-top-color: var(--fill-color);\n",
       "      border-right-color: var(--fill-color);\n",
       "    }\n",
       "    40% {\n",
       "      border-color: transparent;\n",
       "      border-right-color: var(--fill-color);\n",
       "      border-top-color: var(--fill-color);\n",
       "    }\n",
       "    60% {\n",
       "      border-color: transparent;\n",
       "      border-right-color: var(--fill-color);\n",
       "    }\n",
       "    80% {\n",
       "      border-color: transparent;\n",
       "      border-right-color: var(--fill-color);\n",
       "      border-bottom-color: var(--fill-color);\n",
       "    }\n",
       "    90% {\n",
       "      border-color: transparent;\n",
       "      border-bottom-color: var(--fill-color);\n",
       "    }\n",
       "  }\n",
       "</style>\n",
       "\n",
       "      <script>\n",
       "        async function quickchart(key) {\n",
       "          const quickchartButtonEl =\n",
       "            document.querySelector('#' + key + ' button');\n",
       "          quickchartButtonEl.disabled = true;  // To prevent multiple clicks.\n",
       "          quickchartButtonEl.classList.add('colab-df-spinner');\n",
       "          try {\n",
       "            const charts = await google.colab.kernel.invokeFunction(\n",
       "                'suggestCharts', [key], {});\n",
       "          } catch (error) {\n",
       "            console.error('Error during call to suggestCharts:', error);\n",
       "          }\n",
       "          quickchartButtonEl.classList.remove('colab-df-spinner');\n",
       "          quickchartButtonEl.classList.add('colab-df-quickchart-complete');\n",
       "        }\n",
       "        (() => {\n",
       "          let quickchartButtonEl =\n",
       "            document.querySelector('#df-b19b67a2-0fb9-4b88-b2c4-3410f2c9ccbc button');\n",
       "          quickchartButtonEl.style.display =\n",
       "            google.colab.kernel.accessAllowed ? 'block' : 'none';\n",
       "        })();\n",
       "      </script>\n",
       "    </div>\n",
       "\n",
       "    </div>\n",
       "  </div>\n"
      ],
      "text/plain": [
       "  user_id  step   page entry_point drop_off_point visitor_type\n",
       "0    U001     1   Cart        Cart       Checkout    Returning\n",
       "1    U001     2  Login        Cart       Checkout    Returning\n",
       "2    U001     3   Cart        Cart       Checkout    Returning\n",
       "3    U001     4  Login        Cart       Checkout    Returning\n",
       "4    U001     5   Cart        Cart       Checkout    Returning"
      ]
     },
     "execution_count": 1,
     "metadata": {},
     "output_type": "execute_result"
    }
   ],
   "source": [
    "import pandas as pd\n",
    "import matplotlib.pyplot as plt\n",
    "import seaborn as sns\n",
    "import openai\n",
    "import os\n",
    "\n",
    "# Load dataset\n",
    "# Change to your path below\n",
    "df = pd.read_csv(\"/content/sample_data/sample_clickstream_data.csv\")\n",
    "df.head()"
   ]
  },
  {
   "cell_type": "markdown",
   "id": "34773ed6",
   "metadata": {
    "id": "34773ed6"
   },
   "source": [
    "## Traditional Python Analysis"
   ]
  },
  {
   "cell_type": "markdown",
   "id": "a9925e69",
   "metadata": {
    "id": "a9925e69"
   },
   "source": [
    "### 1. Most Common Entry Points"
   ]
  },
  {
   "cell_type": "code",
   "execution_count": 2,
   "id": "57185411",
   "metadata": {
    "colab": {
     "base_uri": "https://localhost:8080/",
     "height": 538
    },
    "executionInfo": {
     "elapsed": 218,
     "status": "ok",
     "timestamp": 1753805334582,
     "user": {
      "displayName": "Deanne Larson",
      "userId": "09225825831789068588"
     },
     "user_tz": 420
    },
    "id": "57185411",
    "outputId": "f00324f5-6743-45fc-f254-a57c08b39ac1"
   },
   "outputs": [
    {
     "data": {
      "image/png": "[encoded data removed]",
      "text/plain": [
       "<Figure size 800x500 with 1 Axes>"
      ]
     },
     "metadata": {},
     "output_type": "display_data"
    }
   ],
   "source": [
    "entry_counts = df[['user_id', 'entry_point']].drop_duplicates()['entry_point'].value_counts()\n",
    "entry_counts.plot(kind='bar', title='Most Common Entry Points', figsize=(8,5))\n",
    "plt.xlabel('Page')\n",
    "plt.ylabel('User Count')\n",
    "plt.show()"
   ]
  },
  {
   "cell_type": "markdown",
   "id": "43a2f7a4",
   "metadata": {
    "id": "43a2f7a4"
   },
   "source": [
    "### 2. Most Frequent Navigation Paths"
   ]
  },
  {
   "cell_type": "code",
   "execution_count": 3,
   "id": "ef08e590",
   "metadata": {
    "colab": {
     "base_uri": "https://localhost:8080/"
    },
    "executionInfo": {
     "elapsed": 9,
     "status": "ok",
     "timestamp": 1753805338633,
     "user": {
      "displayName": "Deanne Larson",
      "userId": "09225825831789068588"
     },
     "user_tz": 420
    },
    "id": "ef08e590",
    "outputId": "1b6b702d-9240-43ec-beb5-a33d63106477"
   },
   "outputs": [
    {
     "name": "stdout",
     "output_type": "stream",
     "text": [
      "Top 5 User Navigation Paths:\n",
      "page\n",
      "Help -> Home -> Cart                                                     2\n",
      "Login -> Search -> Help -> Home -> Cart -> Product -> Cart               1\n",
      "Help -> Help -> Help -> Product -> Cart                                  1\n",
      "Checkout -> Login -> Product -> Product -> Cart -> Product -> Product    1\n",
      "Cart -> Help -> Login -> Login -> Help -> Login -> Cart                  1\n",
      "Name: count, dtype: int64\n"
     ]
    }
   ],
   "source": [
    "user_journeys = df.groupby('user_id')['page'].apply(lambda x: ' -> '.join(x)).value_counts()\n",
    "print(\"Top 5 User Navigation Paths:\")\n",
    "print(user_journeys.head(5))"
   ]
  },
  {
   "cell_type": "markdown",
   "id": "4d7a774a",
   "metadata": {
    "id": "4d7a774a"
   },
   "source": [
    "### 3. Drop-Off Points"
   ]
  },
  {
   "cell_type": "code",
   "execution_count": 4,
   "id": "c70290a9",
   "metadata": {
    "colab": {
     "base_uri": "https://localhost:8080/",
     "height": 538
    },
    "executionInfo": {
     "elapsed": 114,
     "status": "ok",
     "timestamp": 1753805361764,
     "user": {
      "displayName": "Deanne Larson",
      "userId": "09225825831789068588"
     },
     "user_tz": 420
    },
    "id": "c70290a9",
    "outputId": "bec2e6a6-fbc3-41a5-a04a-b90021feb225"
   },
   "outputs": [
    {
     "data": {
      "image/png": "[encoded data removed]",
      "text/plain": [
       "<Figure size 800x500 with 1 Axes>"
      ]
     },
     "metadata": {},
     "output_type": "display_data"
    }
   ],
   "source": [
    "drop_off = df[['user_id', 'drop_off_point']].drop_duplicates()['drop_off_point'].value_counts()\n",
    "drop_off.plot(kind='bar', title='Most Common Drop-off Points', figsize=(8,5))\n",
    "plt.xlabel('Page')\n",
    "plt.ylabel('User Count')\n",
    "plt.show()"
   ]
  },
  {
   "cell_type": "markdown",
   "id": "14ca5556",
   "metadata": {
    "id": "14ca5556"
   },
   "source": [
    "### 4. Compare New vs Returning Users"
   ]
  },
  {
   "cell_type": "code",
   "execution_count": 5,
   "id": "c1aafdf1",
   "metadata": {
    "colab": {
     "base_uri": "https://localhost:8080/",
     "height": 615
    },
    "executionInfo": {
     "elapsed": 162,
     "status": "ok",
     "timestamp": 1753805365931,
     "user": {
      "displayName": "Deanne Larson",
      "userId": "09225825831789068588"
     },
     "user_tz": 420
    },
    "id": "c1aafdf1",
    "outputId": "844c112d-9699-4598-a90a-76537c63dc63"
   },
   "outputs": [
    {
     "data": {
      "image/png": "[encoded data removed]",
      "text/plain": [
       "<Figure size 1200x600 with 1 Axes>"
      ]
     },
     "metadata": {},
     "output_type": "display_data"
    }
   ],
   "source": [
    "user_type_counts = df.groupby(['visitor_type', 'page'])['user_id'].nunique().unstack().fillna(0)\n",
    "user_type_counts.T.plot(kind='bar', figsize=(12, 6), title='Page Visits by User Type')\n",
    "plt.xlabel('Page')\n",
    "plt.ylabel('Unique Users')\n",
    "plt.show()"
   ]
  },
  {
   "cell_type": "markdown",
   "id": "6d5fc12c",
   "metadata": {
    "id": "6d5fc12c"
   },
   "source": [
    "## ChatGPT API-Assisted Analysis"
   ]
  },
  {
   "cell_type": "code",
   "execution_count": 6,
   "id": "7363c3cc",
   "metadata": {
    "colab": {
     "base_uri": "https://localhost:8080/"
    },
    "executionInfo": {
     "elapsed": 35,
     "status": "ok",
     "timestamp": 1753805478965,
     "user": {
      "displayName": "Deanne Larson",
      "userId": "09225825831789068588"
     },
     "user_tz": 420
    },
    "id": "7363c3cc",
    "outputId": "e5d18733-666e-4fe9-a896-ce98d8f1d3de"
   },
   "outputs": [
    {
     "name": "stdout",
     "output_type": "stream",
     "text": [
      "          unique_users                  visitor_type\n",
      "page                                                \n",
      "Cart                29  {'Returning': 31, 'New': 13}\n",
      "Checkout            23  {'New': 14, 'Returning': 13}\n",
      "Help                26  {'Returning': 16, 'New': 16}\n",
      "Home                30  {'Returning': 28, 'New': 19}\n",
      "Login               29  {'Returning': 20, 'New': 19}\n",
      "Product             23  {'Returning': 19, 'New': 12}\n",
      "Search              24  {'Returning': 23, 'New': 16}\n"
     ]
    }
   ],
   "source": [
    "# Replace this with your actual API key\n",
    "os.environ[\"OPENAI_API_KEY\"] = \"insert your key here\"\n",
    "openai.api_key = os.getenv(\"OPENAI_API_KEY\")\n",
    "\n",
    "summary = df.groupby('page').agg({\n",
    "    'user_id': pd.Series.nunique,\n",
    "    'visitor_type': lambda x: x.value_counts().to_dict()\n",
    "}).rename(columns={'user_id': 'unique_users'})\n",
    "\n",
    "summary_text = summary.to_string()\n",
    "print(summary_text)"
   ]
  },
  {
   "cell_type": "markdown",
   "id": "08a54e01",
   "metadata": {
    "id": "08a54e01"
   },
   "source": [
    "### 5. Define Prompt and Request Insights from ChatGPT"
   ]
  },
  {
   "cell_type": "code",
   "execution_count": 8,
   "id": "b30caecd",
   "metadata": {
    "colab": {
     "base_uri": "https://localhost:8080/"
    },
    "executionInfo": {
     "elapsed": 23063,
     "status": "ok",
     "timestamp": 1753805637495,
     "user": {
      "displayName": "Deanne Larson",
      "userId": "09225825831789068588"
     },
     "user_tz": 420
    },
    "id": "b30caecd",
    "outputId": "81c595a2-3eca-41f3-c5af-2942a34732c0"
   },
   "outputs": [
    {
     "name": "stdout",
     "output_type": "stream",
     "text": [
      "\n",
      "--- ChatGPT Analysis ---\n",
      "\n",
      "To analyze this clickstream data and answer the questions, we will break down the available information for each query:\n",
      "\n",
      "### 1. The top 3 user entry points\n",
      "An entry point can be inferred as the page most frequently visited by new users, as this would likely be their first interaction with the website. From the available data:\n",
      "\n",
      "- **Home**: 19 new users\n",
      "- **Help**: 16 new users\n",
      "- **Search**: 16 new users\n",
      "\n",
      "These three pages (Home, Help, and Search) are the most common initial pages visited by new users, making them the top 3 user entry points.\n",
      "\n",
      "### 2. The most frequent user paths (assume linear steps)\n",
      "Assuming linear steps and given that each page likely serves a specific purpose in the funnel, a common user path could be inferred from a typical flow, considering practical ecommerce user behavior:\n",
      "\n",
      "- **Home** → **Search**/ **Product** → **Cart** → **Login** → **Checkout**\n",
      "\n",
      "This path follows a logical progression from landing and exploring products to purchasing. The actual flow might vary, and typically would need further specific data on page transitions, but this progression matches common ecommerce behavior.\n",
      "\n",
      "### 3. Where most users drop off\n",
      "Drop-off is where users exit the flow, observed likely between pages with high transitions that see fewer people proceeding to the next step. Considering the funnel:\n",
      "\n",
      "- **Cart to Checkout**: 29 (Cart) drop to 23 (Checkout)\n",
      "\n",
      "The most significant drop-off points here are users moving from the Cart page to the Checkout page, indicating potential abandonment or hesitation in completing a purchase.\n",
      "\n",
      "### 4. Behavioral differences between new and returning users\n",
      "From the data, distinct patterns can be observed:\n",
      "\n",
      "- **New Users**: Show balanced exploration (Home, Help, Search).\n",
      "- **Returning Users**: Show more purpose-driven behavior, focusing more on direct actions like returning to Cart (31), Checkout (13), and only slightly fewer visits to the Home page (28 compared to 19 new users).\n",
      "  \n",
      "This indicates that returning users are more likely to directly engage with purchasing steps versus new users who explore informational and product pages more extensively.\n",
      "\n",
      "### 5. Recommendations to improve user flow\n",
      "Given the analysis, several actions can be recommended to improve user flow and conversion:\n",
      "\n",
      "- **Enhance Conversion from Cart to Checkout**: Simplify the checkout process, offer incentives like discounts or free shipping, and use retargeting strategies for cart abandonment.\n",
      "  \n",
      "- **Improve Engagement on Entry Pages**: For new users primarily landing on the Home, Help, and Search pages, ensure clear navigation aids, readily available support (like FAQs and chatbots on Help), and highlight attractive offers or products on the Home and Search pages to guide them further into the funnel.\n",
      "  \n",
      "- **Personalization for Returning Users**: Since returning users show intent by going directly to product-related actions, personalize the experience based on past behavior and preferences. Offer recommendations, loyalty rewards, and quicker checkout options.\n",
      "\n",
      "Implementing user feedback mechanisms to identify pain points and continually monitoring user behavior for shifts in patterns will further aid in refining the user experience and improving flow efficiency.\n"
     ]
    }
   ],
   "source": [
    "prompt = f\"\"\"\n",
    "You are a web analyst. Here is a summary of clickstream data:\n",
    "{summary_text}\n",
    "\n",
    "Analyze and identify:\n",
    "1. The top 3 user entry points\n",
    "2. The most frequent user paths (assume linear steps)\n",
    "3. Where most users drop off\n",
    "4. Behavioral differences between new and returning users\n",
    "5. Recommendations to improve user flow\n",
    "\"\"\"\n",
    "\n",
    "# Import the openai library\n",
    "from openai import OpenAI\n",
    "\n",
    "# Create an OpenAI client\n",
    "client = OpenAI()\n",
    "\n",
    "# Create a chat completion\n",
    "response = client.chat.completions.create(\n",
    "    model=\"gpt-4-turbo\",\n",
    "    messages=[\n",
    "        {\"role\": \"system\", \"content\": \"You are a data analyst.\"},\n",
    "        {\"role\": \"user\", \"content\": prompt}\n",
    "    ]\n",
    ")\n",
    "\n",
    "print(\"\\n--- ChatGPT Analysis ---\\n\")\n",
    "print(response.choices[0].message.content)"
   ]
  },
  {
   "cell_type": "markdown",
   "id": "13da9f3c",
   "metadata": {
    "id": "13da9f3c"
   },
   "source": [
    "## Summary\n",
    "**Traditional Python** provides control, validation, and rich visualization.\n",
    "**ChatGPT API** provides fast exploratory analysis, summarization, and insight generation.\n",
    "\n",
    "**Tip:** Use both together for practical, scalable behavioral analysis."
   ]
  }
 ],
 "metadata": {
  "colab": {
   "provenance": []
  },
  "kernelspec": {
   "display_name": "Python 3 (ipykernel)",
   "language": "python",
   "name": "python3"
  },
  "language_info": {
   "codemirror_mode": {
    "name": "ipython",
    "version": 3
   },
   "file_extension": ".py",
   "mimetype": "text/x-python",
   "name": "python",
   "nbconvert_exporter": "python",
   "pygments_lexer": "ipython3",
   "version": "3.9.13"
  }
 },
 "nbformat": 4,
 "nbformat_minor": 5
}
